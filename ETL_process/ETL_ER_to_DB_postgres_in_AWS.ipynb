{
 "cells": [
  {
   "cell_type": "code",
   "execution_count": 1,
   "metadata": {},
   "outputs": [],
   "source": [
    "import pandas as pd\n",
    "\n",
    "\n",
    "df = pd.read_csv('relative_path_to_csv')\n",
    "\n",
    "# Ensure all parts are converted to string before concatenation\n",
    "df['company_id'] = pd.factorize(df['company_name'].astype(str) + df['address'].astype(str) + df['city'].astype(str) + df['state'].astype(str) + df['zip'].astype(str))[0] + 1\n",
    "df['department_id'] = pd.factorize(df['department'].astype(str))[0] + 1\n",
    "\n",
    "\n",
    "# Create DataFrames for Company, Department, and Employee tables\n",
    "df_company = df[['company_id', 'company_name', 'address', 'city', 'state', 'zip']].drop_duplicates()\n",
    "df_department = df[['department_id', 'department']].drop_duplicates().rename(columns={'department': 'department_name'})\n",
    "df_employee = df[['first_name', 'last_name', 'phone1', 'phone2', 'email', 'company_id', 'department_id']]\n"
   ]
  },
  {
   "cell_type": "code",
   "execution_count": 1,
   "metadata": {},
   "outputs": [
    {
     "name": "stdout",
     "output_type": "stream",
     "text": [
      "Error: Could not make connection to the PostgreSQL database\n",
      "connection to server at \"database-2.ccnvwkq3ecvj.us-east-1.rds.amazonaws.com\" (54.221.96.247), port 5432 failed: Operation timed out\n",
      "\tIs the server running on that host and accepting TCP/IP connections?\n",
      "\n"
     ]
    }
   ],
   "source": [
    "import psycopg2\n",
    "from psycopg2 import extras\n",
    "\n",
    "def fetch_all_tables():\n",
    "    try:\n",
    "        # Connect to your database\n",
    "        connection = psycopg2.connect(\n",
    "            dbname='postgres',\n",
    "            user='postgres',\n",
    "            password='ec2_password',\n",
    "            host='ec2_host'\n",
    "        )\n",
    "\n",
    "        # Create a cursor to perform database operations\n",
    "        cursor = connection.cursor(cursor_factory=psycopg2.extras.DictCursor)\n",
    "\n",
    "        # Fetch all table names in the public schema\n",
    "        cursor.execute(\"\"\"\n",
    "            SELECT table_name\n",
    "            FROM information_schema.tables\n",
    "            WHERE table_schema = 'public'\n",
    "        \"\"\")\n",
    "        tables = cursor.fetchall()\n",
    "\n",
    "        # Dictionary to hold data from all tables\n",
    "        all_tables_data = {}\n",
    "\n",
    "        # Loop through all tables and fetch their rows\n",
    "        for table in tables:\n",
    "            table_name = table[0]\n",
    "            print(f\"Fetching data from table: {table_name}\")\n",
    "            cursor.execute(f\"SELECT * FROM {table_name}\")\n",
    "            rows = cursor.fetchall()\n",
    "            all_tables_data[table_name] = rows\n",
    "\n",
    "        # Close the cursor and connection\n",
    "        cursor.close()\n",
    "        connection.close()\n",
    "\n",
    "        return all_tables_data\n",
    "\n",
    "    except psycopg2.Error as e:\n",
    "        print(\"Error: Could not make connection to the PostgreSQL database\")\n",
    "        print(e)\n",
    "\n",
    "# Execute the function\n",
    "all_tables_data = fetch_all_tables()\n",
    "\n",
    "# Now, all_tables_data contains all the data from each table.\n",
    "# You can print it or process it as needed.\n"
   ]
  },
  {
   "cell_type": "code",
   "execution_count": null,
   "metadata": {},
   "outputs": [
    {
     "name": "stdout",
     "output_type": "stream",
     "text": [
      "Fetching data from table: company\n",
      "Fetching data from table: employee\n",
      "Fetching data from table: department\n"
     ]
    }
   ],
   "source": []
  },
  {
   "cell_type": "code",
   "execution_count": null,
   "metadata": {},
   "outputs": [
    {
     "name": "stdout",
     "output_type": "stream",
     "text": [
      "Fetching data from table: company\n",
      "Fetching data from table: employee\n",
      "Fetching data from table: department\n"
     ]
    }
   ],
   "source": []
  },
  {
   "cell_type": "code",
   "execution_count": 3,
   "metadata": {},
   "outputs": [],
   "source": [
    "import psycopg2\n",
    "from psycopg2 import extras\n",
    "\n",
    "try:\n",
    "    connection = psycopg2.connect(\n",
    "            dbname='postgres',\n",
    "            user='postgres',\n",
    "            password='example',\n",
    "            host='52.23.248.189'\n",
    "        )\n",
    "except psycopg2.Error as e:\n",
    "    print(\"Error: Could not make connection to the PostgreSQL database\")\n",
    "    print(e)\n"
   ]
  },
  {
   "cell_type": "code",
   "execution_count": 4,
   "metadata": {},
   "outputs": [],
   "source": [
    "def insert_into_table(connection, df, table_name):\n",
    "    \"\"\"\n",
    "    Insert DataFrame into the specified table using a connection.\n",
    "    \"\"\"\n",
    "    tuples = [tuple(x) for x in df.to_numpy()]\n",
    "    cols = ','.join(list(df.columns))\n",
    "    query = f\"INSERT INTO {table_name} ({cols}) VALUES %s ON CONFLICT DO NOTHING\"\n",
    "    cursor = connection.cursor()\n",
    "    try:\n",
    "        extras.execute_values(cursor, query, tuples, template=None)\n",
    "        connection.commit()\n",
    "    except psycopg2.Error as e:\n",
    "        print(f\"Error: Could not insert data into {table_name}\")\n",
    "        print(e)\n",
    "    finally:\n",
    "        cursor.close()\n",
    "\n",
    "# Insert data into each table\n",
    "insert_into_table(connection, df_company, 'Company')\n",
    "insert_into_table(connection, df_department, 'Department')\n",
    "insert_into_table(connection, df_employee, 'Employee')\n"
   ]
  },
  {
   "cell_type": "code",
   "execution_count": 5,
   "metadata": {},
   "outputs": [
    {
     "name": "stdout",
     "output_type": "stream",
     "text": [
      "Fetching data from table: company\n",
      "Fetching data from table: employee\n",
      "Fetching data from table: department\n"
     ]
    }
   ],
   "source": [
    "import psycopg2\n",
    "from psycopg2 import extras\n",
    "\n",
    "def fetch_all_tables():\n",
    "    try:\n",
    "        # Connect to your database\n",
    "        connection = psycopg2.connect(\n",
    "            dbname='postgres',\n",
    "            user='postgres',\n",
    "            password='example',\n",
    "            host='52.23.248.189'\n",
    "        )\n",
    "\n",
    "        # Create a cursor to perform database operations\n",
    "        cursor = connection.cursor(cursor_factory=psycopg2.extras.DictCursor)\n",
    "\n",
    "        # Fetch all table names in the public schema\n",
    "        cursor.execute(\"\"\"\n",
    "            SELECT table_name\n",
    "            FROM information_schema.tables\n",
    "            WHERE table_schema = 'public'\n",
    "        \"\"\")\n",
    "        tables = cursor.fetchall()\n",
    "\n",
    "        # Dictionary to hold data from all tables\n",
    "        all_tables_data = {}\n",
    "\n",
    "        # Loop through all tables and fetch their rows\n",
    "        for table in tables:\n",
    "            table_name = table[0]\n",
    "            print(f\"Fetching data from table: {table_name}\")\n",
    "            cursor.execute(f\"SELECT * FROM {table_name}\")\n",
    "            rows = cursor.fetchall()\n",
    "            all_tables_data[table_name] = rows\n",
    "\n",
    "        # Close the cursor and connection\n",
    "        cursor.close()\n",
    "        connection.close()\n",
    "\n",
    "        return all_tables_data\n",
    "\n",
    "    except psycopg2.Error as e:\n",
    "        print(\"Error: Could not make connection to the PostgreSQL database\")\n",
    "        print(e)\n",
    "\n",
    "# Execute the function\n",
    "all_tables_data = fetch_all_tables()\n",
    "\n",
    "# Now, all_tables_data contains all the data from each table.\n",
    "# You can print it or process it as needed.\n"
   ]
  }
 ],
 "metadata": {
  "kernelspec": {
   "display_name": "Python 3",
   "language": "python",
   "name": "python3"
  },
  "language_info": {
   "codemirror_mode": {
    "name": "ipython",
    "version": 3
   },
   "file_extension": ".py",
   "mimetype": "text/x-python",
   "name": "python",
   "nbconvert_exporter": "python",
   "pygments_lexer": "ipython3",
   "version": "3.11.5"
  },
  "orig_nbformat": 4
 },
 "nbformat": 4,
 "nbformat_minor": 2
}
