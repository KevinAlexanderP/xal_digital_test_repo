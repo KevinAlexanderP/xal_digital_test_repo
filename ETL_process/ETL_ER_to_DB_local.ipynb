{
 "cells": [
  {
   "cell_type": "code",
   "execution_count": 2,
   "metadata": {},
   "outputs": [],
   "source": [
    "import pandas as pd\n",
    "\n",
    "\n",
    "df = pd.read_csv('relative_path_to_csv')\n",
    "\n",
    "# Ensure all parts are converted to string before concatenation\n",
    "df['company_id'] = pd.factorize(df['company_name'].astype(str) + df['address'].astype(str) + df['city'].astype(str) + df['state'].astype(str) + df['zip'].astype(str))[0] + 1\n",
    "df['department_id'] = pd.factorize(df['department'].astype(str))[0] + 1\n",
    "\n",
    "\n",
    "# Create DataFrames for Company, Department, and Employee tables\n",
    "df_company = df[['company_id', 'company_name', 'address', 'city', 'state', 'zip']].drop_duplicates()\n",
    "df_department = df[['department_id', 'department']].drop_duplicates().rename(columns={'department': 'department_name'})\n",
    "df_employee = df[['first_name', 'last_name', 'phone1', 'phone2', 'email', 'company_id', 'department_id']]\n"
   ]
  },
  {
   "cell_type": "code",
   "execution_count": 3,
   "metadata": {},
   "outputs": [],
   "source": [
    "import psycopg2\n",
    "from psycopg2 import extras\n",
    "\n",
    "try:\n",
    "    connection = psycopg2.connect(\n",
    "        dbname='postgres',\n",
    "        user='postgres',\n",
    "        password='example',\n",
    "        host='localhost'\n",
    "    )\n",
    "except psycopg2.Error as e:\n",
    "    print(\"Error: Could not make connection to the PostgreSQL database\")\n",
    "    print(e)\n"
   ]
  },
  {
   "cell_type": "code",
   "execution_count": 4,
   "metadata": {},
   "outputs": [],
   "source": [
    "def insert_into_table(connection, df, table_name):\n",
    "    \"\"\"\n",
    "    Insert DataFrame into the specified table using a connection.\n",
    "    \"\"\"\n",
    "    tuples = [tuple(x) for x in df.to_numpy()]\n",
    "    cols = ','.join(list(df.columns))\n",
    "    query = f\"INSERT INTO {table_name} ({cols}) VALUES %s ON CONFLICT DO NOTHING\"\n",
    "    cursor = connection.cursor()\n",
    "    try:\n",
    "        extras.execute_values(cursor, query, tuples, template=None)\n",
    "        connection.commit()\n",
    "    except psycopg2.Error as e:\n",
    "        print(f\"Error: Could not insert data into {table_name}\")\n",
    "        print(e)\n",
    "    finally:\n",
    "        cursor.close()\n",
    "\n",
    "# Insert data into each table\n",
    "insert_into_table(connection, df_company, 'Company')\n",
    "insert_into_table(connection, df_department, 'Department')\n",
    "insert_into_table(connection, df_employee, 'Employee')\n"
   ]
  }
 ],
 "metadata": {
  "kernelspec": {
   "display_name": "Python 3",
   "language": "python",
   "name": "python3"
  },
  "language_info": {
   "codemirror_mode": {
    "name": "ipython",
    "version": 3
   },
   "file_extension": ".py",
   "mimetype": "text/x-python",
   "name": "python",
   "nbconvert_exporter": "python",
   "pygments_lexer": "ipython3",
   "version": "3.11.5"
  },
  "orig_nbformat": 4
 },
 "nbformat": 4,
 "nbformat_minor": 2
}
